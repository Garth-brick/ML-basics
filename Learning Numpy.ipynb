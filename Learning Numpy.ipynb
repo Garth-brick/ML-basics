{
 "cells": [
  {
   "attachments": {},
   "cell_type": "markdown",
   "metadata": {},
   "source": [
    "# Learning Numpy\n",
    "\n",
    "### Introduction\n",
    "\n",
    "- Numpy is a very popular library which is used for dealing with numbers exclusively.\n",
    "- It is actually a very simple and limited library but it has a lot useful ibraries bui;t on top of it \n",
    "- Python is very slow for procecssing laarge amounts of data $\\rightarrow$ Numpy solves this problem exclusively\n",
    "- In actual programs we rarely employ Numpy directly, but it gets used in other libraries such as Pandas and Matplotlib\n",
    "- We need to have a low level understanding of how computers see numbers to understand exactly how Numpy works\n",
    "\n",
    "### A Low Level Understanding of Numpy\n",
    "\n",
    "- A computer can only store binary values i.e. 1's and 0's\n",
    "- 8 bits = 1 byte\n",
    "- A computer can't just read data right off a hard disk, it must first be loaded onto the computer's memory\n",
    "- 8 Gigabytes (GB) = 8192 Megabytes (MB) = 8,388,608 Kilobytes (KB) = 8,589,934,592 Bytes (B) = 68,719,476,736 bits (b)\n",
    "- Numpy allows us to very accurately select the number of bits we want to use to store a number\n",
    "- Python wastes a ton of memory when storing numbers because a lot of redudandant bits end up getting used and because python stores a lot more information about each integer (like `__getattr__`, `__setattr__`, etc.)\n",
    "- This means that you need 28 bytes just to store a single digit integer!\n",
    "- Compare this to Numpy's `int8` which only requires 1 byte."
   ]
  },
  {
   "cell_type": "code",
   "execution_count": null,
   "metadata": {},
   "outputs": [],
   "source": [
    "import numpy as np"
   ]
  },
  {
   "cell_type": "code",
   "execution_count": null,
   "metadata": {},
   "outputs": [],
   "source": [
    "# this can be used to declare an integer with 8 bits precisely\n",
    "np.int8"
   ]
  },
  {
   "attachments": {},
   "cell_type": "markdown",
   "metadata": {},
   "source": [
    "## Fast Array Processing\n",
    "\n",
    "#### Introduction\n",
    "\n",
    "- It is not guaranteed that all numbers in a python list will be stored in the same place\n",
    "- On the other hand, when we create an `int8` array in Numpy then a contiguous block of memory is created with no more and no less than what was needed. \n",
    "- This also allows us to use some very efficient low-level CPU directives"
   ]
  },
  {
   "attachments": {},
   "cell_type": "markdown",
   "metadata": {},
   "source": [
    "#### Declaring Numpy Arrays"
   ]
  },
  {
   "cell_type": "code",
   "execution_count": null,
   "metadata": {},
   "outputs": [],
   "source": [
    "# declaring a Numpy array\n",
    "a = np.array([1,2,3,4])"
   ]
  },
  {
   "cell_type": "code",
   "execution_count": null,
   "metadata": {},
   "outputs": [],
   "source": [
    "# Accessing elements works the same way\n",
    "a[0]"
   ]
  },
  {
   "cell_type": "code",
   "execution_count": null,
   "metadata": {},
   "outputs": [],
   "source": [
    "# Slicing to get sub-array also works the same way, it still gives us a Numpy array\n",
    "a[0:1]"
   ]
  },
  {
   "cell_type": "code",
   "execution_count": null,
   "metadata": {},
   "outputs": [],
   "source": [
    "# Multi-indexing to get multiple elements from a Numpy array in the form of a Numpy array\n",
    "a[[0,1,-1]]"
   ]
  },
  {
   "attachments": {},
   "cell_type": "markdown",
   "metadata": {},
   "source": [
    "#### Array Types\n",
    "\n",
    "- By default Numpy is using 64-bit integers because this is a 64-bit platform"
   ]
  },
  {
   "cell_type": "code",
   "execution_count": null,
   "metadata": {},
   "outputs": [],
   "source": [
    "a.dtype"
   ]
  },
  {
   "cell_type": "code",
   "execution_count": null,
   "metadata": {},
   "outputs": [],
   "source": [
    "b = np.array([1,2,3,4], dtype=np.float)"
   ]
  },
  {
   "cell_type": "code",
   "execution_count": null,
   "metadata": {},
   "outputs": [],
   "source": [
    "b.dtype"
   ]
  },
  {
   "attachments": {},
   "cell_type": "markdown",
   "metadata": {},
   "source": [
    "#### Multi-dimensional Arrays\n",
    "\n",
    "- We can also create multi-dimenstional Numpy arrays\n",
    "- The `shape` of a numpy array gives us a tuple containing the number of rows and columns in the numpy array\n",
    "- The `ndim` gives us the dimensions of a particular array\n",
    "- The `size` gives us the total number of elements in the array\n",
    "- If the shape isn't consistent then the array will fall back to being a regular python object!"
   ]
  },
  {
   "cell_type": "code",
   "execution_count": null,
   "metadata": {},
   "outputs": [],
   "source": [
    "c = np.array([\n",
    "    [1,2,3],\n",
    "    [2,3,4],\n",
    "    [3,4,5]\n",
    "])"
   ]
  },
  {
   "cell_type": "code",
   "execution_count": null,
   "metadata": {},
   "outputs": [],
   "source": [
    "c.shape"
   ]
  },
  {
   "cell_type": "code",
   "execution_count": null,
   "metadata": {},
   "outputs": [],
   "source": [
    "c.ndim"
   ]
  },
  {
   "cell_type": "code",
   "execution_count": null,
   "metadata": {},
   "outputs": [],
   "source": [
    "c.size"
   ]
  },
  {
   "cell_type": "code",
   "execution_count": null,
   "metadata": {},
   "outputs": [],
   "source": [
    "c[1]"
   ]
  },
  {
   "cell_type": "code",
   "execution_count": null,
   "metadata": {},
   "outputs": [],
   "source": [
    "c[1][0]"
   ]
  },
  {
   "cell_type": "code",
   "execution_count": null,
   "metadata": {},
   "outputs": [],
   "source": [
    "# We can also use multi-selection for Numpy array\n",
    "c[1, 0]"
   ]
  },
  {
   "cell_type": "code",
   "execution_count": null,
   "metadata": {},
   "outputs": [],
   "source": [
    "# Slicing also works the same way\n",
    "c[:2, :2]\n",
    "# this will take whatever is before row2 and before col2"
   ]
  },
  {
   "cell_type": "code",
   "execution_count": null,
   "metadata": {},
   "outputs": [],
   "source": [
    "c[2] = np.array([10, 11, 12])\n",
    "c"
   ]
  },
  {
   "attachments": {},
   "cell_type": "markdown",
   "metadata": {},
   "source": [
    "### Summary Statistics\n",
    "\n",
    "These are some very useful methods\n",
    "- `.sum()` $\\rightarrow$ gets the sum of all elements\n",
    "- `.mean()` $\\rightarrow$ gets the mean of all elements\n",
    "- `.std()` $\\rightarrow$ gets the standard deviation\n",
    "- `.var()` $\\rightarrow$ gets the variance\n",
    "- When using matrices, we can give a kwarg `axis=` to the sums along a particular dimension. \n",
    "    - Using `axis=0` gets you a Numpy array with the sums of each column. \n",
    "    - Using `axis=1` gets you a Numpy array with the sums of each row. "
   ]
  },
  {
   "cell_type": "code",
   "execution_count": null,
   "metadata": {},
   "outputs": [],
   "source": [
    "c"
   ]
  },
  {
   "cell_type": "code",
   "execution_count": null,
   "metadata": {},
   "outputs": [],
   "source": [
    "c.sum()"
   ]
  },
  {
   "cell_type": "code",
   "execution_count": null,
   "metadata": {},
   "outputs": [],
   "source": [
    "c.sum(axis=0)"
   ]
  },
  {
   "cell_type": "code",
   "execution_count": null,
   "metadata": {},
   "outputs": [],
   "source": [
    "c.sum(axis=1)"
   ]
  },
  {
   "attachments": {},
   "cell_type": "markdown",
   "metadata": {},
   "source": [
    "### Broadcasting and Vectorised Operations\n",
    "\n",
    "- This is one of the most fundamental aspects of Numpy\n",
    "- These operations are optimised to be extremely fast"
   ]
  },
  {
   "cell_type": "code",
   "execution_count": null,
   "metadata": {},
   "outputs": [],
   "source": [
    "arr = np.arange(4)\n",
    "arr"
   ]
  },
  {
   "cell_type": "code",
   "execution_count": null,
   "metadata": {},
   "outputs": [],
   "source": [
    "# the operation gets applied to each element\n",
    "arr + 10"
   ]
  },
  {
   "cell_type": "code",
   "execution_count": null,
   "metadata": {},
   "outputs": [],
   "source": [
    "# we can perform an operation and assign the new values in a similar way\n",
    "arr += 10"
   ]
  },
  {
   "cell_type": "code",
   "execution_count": null,
   "metadata": {},
   "outputs": [],
   "source": [
    "arr"
   ]
  },
  {
   "cell_type": "code",
   "execution_count": null,
   "metadata": {},
   "outputs": [],
   "source": [
    "barr = np.array([9,8,7,6])"
   ]
  },
  {
   "cell_type": "code",
   "execution_count": null,
   "metadata": {},
   "outputs": [],
   "source": [
    "barr"
   ]
  },
  {
   "cell_type": "code",
   "execution_count": null,
   "metadata": {},
   "outputs": [],
   "source": [
    "# We can add all the eorresponding elements of both the arrays if they have the same number of elements\n",
    "arr + barr"
   ]
  },
  {
   "attachments": {},
   "cell_type": "markdown",
   "metadata": {},
   "source": [
    "### Boolean Arrays\n",
    "\n",
    "- These are similar to vectorised operations\n",
    "- We don't just have mathematical operations in programming (like +,-,*), we also have boolean operators (like and, or, not)"
   ]
  },
  {
   "cell_type": "code",
   "execution_count": null,
   "metadata": {},
   "outputs": [],
   "source": [
    "a = np.arange(4)\n",
    "a"
   ]
  },
  {
   "attachments": {},
   "cell_type": "markdown",
   "metadata": {},
   "source": [
    "There are three ways by which we can select the first and the last element"
   ]
  },
  {
   "cell_type": "code",
   "execution_count": null,
   "metadata": {},
   "outputs": [],
   "source": [
    "# first method - Python\n",
    "a[0], a[-1]"
   ]
  },
  {
   "cell_type": "code",
   "execution_count": null,
   "metadata": {},
   "outputs": [],
   "source": [
    "# second method - Numpy multi-indexing\n",
    "a[[0, -1]]"
   ]
  },
  {
   "cell_type": "code",
   "execution_count": null,
   "metadata": {},
   "outputs": [],
   "source": [
    "# third method - boolean arrays\n",
    "a[[True, False, False, True]]"
   ]
  },
  {
   "attachments": {},
   "cell_type": "markdown",
   "metadata": {},
   "source": [
    "But writing True/False for every element is obviously not scalable.\n",
    "\n",
    "**However, we can create those boolean arrays using vectorised operations!**"
   ]
  },
  {
   "cell_type": "code",
   "execution_count": null,
   "metadata": {},
   "outputs": [],
   "source": [
    "a >= 2"
   ]
  },
  {
   "cell_type": "code",
   "execution_count": null,
   "metadata": {},
   "outputs": [],
   "source": [
    "a[a>=2]"
   ]
  },
  {
   "cell_type": "code",
   "execution_count": null,
   "metadata": {},
   "outputs": [],
   "source": [
    "# all elements greater than the mean\n",
    "a[a > a.mean()]"
   ]
  },
  {
   "attachments": {},
   "cell_type": "markdown",
   "metadata": {},
   "source": [
    "### Linear Algebra\n",
    "\n",
    "Numpy already contains extremely well optimised implementaions of all common linear algebra operations:\n",
    "- `<matrix_A>.dot(<matrix_B>)` $\\rightarrow$ gets the dot product of these matrices\n",
    "- Similarly for `<matrix_A>.cross(<matrix_B>)` for cross product\n",
    "- `.T` $\\rightarrow$ for transposing a matrix\n",
    "- The `@` symbol is actually used as an operator for matrix multiplication\n",
    "- Combinations of these symbols can be used to create complex arithmetic"
   ]
  },
  {
   "attachments": {},
   "cell_type": "markdown",
   "metadata": {},
   "source": [
    "## Performance Comparison"
   ]
  },
  {
   "cell_type": "code",
   "execution_count": null,
   "metadata": {},
   "outputs": [],
   "source": [
    "l = list(range(100000))"
   ]
  },
  {
   "cell_type": "code",
   "execution_count": null,
   "metadata": {},
   "outputs": [],
   "source": [
    "a = np.arange(100000)"
   ]
  },
  {
   "cell_type": "code",
   "execution_count": null,
   "metadata": {},
   "outputs": [],
   "source": [
    "%time np.sum(a ** 2)"
   ]
  },
  {
   "cell_type": "code",
   "execution_count": null,
   "metadata": {},
   "outputs": [],
   "source": [
    "%time sum([x ** 2 for x in l])"
   ]
  }
 ],
 "metadata": {
  "kernelspec": {
   "display_name": "base",
   "language": "python",
   "name": "python3"
  },
  "language_info": {
   "codemirror_mode": {
    "name": "ipython",
    "version": 3
   },
   "file_extension": ".py",
   "mimetype": "text/x-python",
   "name": "python",
   "nbconvert_exporter": "python",
   "pygments_lexer": "ipython3",
   "version": "3.6.5"
  },
  "orig_nbformat": 4
 },
 "nbformat": 4,
 "nbformat_minor": 2
}
