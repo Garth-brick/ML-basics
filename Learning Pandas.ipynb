{
 "cells": [
  {
   "attachments": {},
   "cell_type": "markdown",
   "metadata": {},
   "source": [
    "# Learning Pandas\n",
    "\n",
    "## Series\n",
    "\n",
    "- A *Series* in Pandas is like a Numpy array\n",
    "- It has a strict data type\n",
    "- We can set the `name` variable of a Series, this really helpful when:\n",
    "    - Other people need to know details of what is stored in the Series\n",
    "    - The series needs to be used as a column in a table\n",
    "- All python lists are indexed using incremental integers starting from zero. This is fixed for Python lists and we can't have any other indexing scheme. However, we can create our own indexes in Pandas Series which can help us associate each value with a corresponding value (possibly a string) by setting the `index` variable of a series:\n",
    "    - This is different from dictionaries in Python because Pandas lists are continguous ordered allocations while Python dictionaries are discontinguous unordered allocations.\n",
    "    - This is important because having continguous memory allocations allows us to have much faster access times!\n",
    "    - Also, if we had to get the population of France without indexing then we would have to remember that France was at index=1 everytime we needed its value. But with out custom indexing, we can access the value whenever we need it using the same syntax as a Python dictionary.\n",
    "    - Even after custom indexing, we can get elements at integer locations (like we did earlier) by using `.iloc[<integer_location>]`. This means that `.iloc[0]` will still get us the first element and `.iloc[-1]` will get us the last element"
   ]
  },
  {
   "cell_type": "code",
   "execution_count": 1,
   "metadata": {},
   "outputs": [],
   "source": [
    "import numpy as np\n",
    "import pandas as pd"
   ]
  },
  {
   "cell_type": "code",
   "execution_count": 2,
   "metadata": {},
   "outputs": [
    {
     "data": {
      "text/plain": [
       "0     35\n",
       "1     64\n",
       "2     81\n",
       "3     61\n",
       "4    127\n",
       "5     65\n",
       "6    319\n",
       "dtype: int64"
      ]
     },
     "execution_count": 2,
     "metadata": {},
     "output_type": "execute_result"
    }
   ],
   "source": [
    "# Declaring a Pandas Series\n",
    "series = pd.Series([35, 64, 81, 61, 127, 65, 319])\n",
    "series"
   ]
  },
  {
   "cell_type": "code",
   "execution_count": 3,
   "metadata": {},
   "outputs": [
    {
     "data": {
      "text/plain": [
       "0     35\n",
       "1     64\n",
       "2     81\n",
       "3     61\n",
       "4    127\n",
       "5     65\n",
       "6    319\n",
       "Name: Populations of G7 countries in millions, dtype: int64"
      ]
     },
     "execution_count": 3,
     "metadata": {},
     "output_type": "execute_result"
    }
   ],
   "source": [
    "series.name = \"Populations of G7 countries in millions\"\n",
    "series"
   ]
  },
  {
   "cell_type": "code",
   "execution_count": 4,
   "metadata": {},
   "outputs": [
    {
     "data": {
      "text/plain": [
       "Canada      35\n",
       "France      64\n",
       "Germany     81\n",
       "Italy       61\n",
       "Japan      127\n",
       "UK          65\n",
       "USA        319\n",
       "Name: Populations of G7 countries in millions, dtype: int64"
      ]
     },
     "execution_count": 4,
     "metadata": {},
     "output_type": "execute_result"
    }
   ],
   "source": [
    "series.index = [\"Canada\", \"France\", \"Germany\", \"Italy\", \"Japan\", \"UK\", \"USA\"]\n",
    "series"
   ]
  },
  {
   "cell_type": "code",
   "execution_count": 5,
   "metadata": {},
   "outputs": [
    {
     "data": {
      "text/plain": [
       "35"
      ]
     },
     "execution_count": 5,
     "metadata": {},
     "output_type": "execute_result"
    }
   ],
   "source": [
    "series.iloc[0]"
   ]
  },
  {
   "cell_type": "code",
   "execution_count": 6,
   "metadata": {},
   "outputs": [
    {
     "data": {
      "text/plain": [
       "Canada    35\n",
       "France    64\n",
       "Name: Populations of G7 countries in millions, dtype: int64"
      ]
     },
     "execution_count": 6,
     "metadata": {},
     "output_type": "execute_result"
    }
   ],
   "source": [
    "# multi-indexing still works here like it did for Numpy arrays\n",
    "series.iloc[[0,1]]"
   ]
  },
  {
   "cell_type": "code",
   "execution_count": 7,
   "metadata": {},
   "outputs": [
    {
     "data": {
      "text/plain": [
       "France     64\n",
       "Germany    81\n",
       "Italy      61\n",
       "Name: Populations of G7 countries in millions, dtype: int64"
      ]
     },
     "execution_count": 7,
     "metadata": {},
     "output_type": "execute_result"
    }
   ],
   "source": [
    "# Note: slicing gets us the upper bound as well!\n",
    "series[\"France\":\"Italy\"]"
   ]
  },
  {
   "attachments": {},
   "cell_type": "markdown",
   "metadata": {},
   "source": [
    "### Vectorised Operations and Boolean Selection"
   ]
  },
  {
   "cell_type": "code",
   "execution_count": 8,
   "metadata": {},
   "outputs": [
    {
     "data": {
      "text/plain": [
       "Canada     False\n",
       "France     False\n",
       "Germany    False\n",
       "Italy      False\n",
       "Japan       True\n",
       "UK         False\n",
       "USA         True\n",
       "Name: Populations of G7 countries in millions, dtype: bool"
      ]
     },
     "execution_count": 8,
     "metadata": {},
     "output_type": "execute_result"
    }
   ],
   "source": [
    "# The same boolean selection techniques from Numpy array will still apply alongside the operators & | ~ (i.e. and, or, not)\n",
    "series > series.mean()"
   ]
  },
  {
   "cell_type": "code",
   "execution_count": 9,
   "metadata": {},
   "outputs": [
    {
     "data": {
      "text/plain": [
       "Japan    127\n",
       "USA      319\n",
       "Name: Populations of G7 countries in millions, dtype: int64"
      ]
     },
     "execution_count": 9,
     "metadata": {},
     "output_type": "execute_result"
    }
   ],
   "source": [
    "series[series > series.mean()]"
   ]
  },
  {
   "cell_type": "code",
   "execution_count": 10,
   "metadata": {},
   "outputs": [
    {
     "data": {
      "text/plain": [
       "Canada      35000000\n",
       "France      64000000\n",
       "Germany     81000000\n",
       "Italy       61000000\n",
       "Japan      127000000\n",
       "UK          65000000\n",
       "USA        319000000\n",
       "Name: Populations of G7 countries in millions, dtype: int64"
      ]
     },
     "execution_count": 10,
     "metadata": {},
     "output_type": "execute_result"
    }
   ],
   "source": [
    "# Vectorised operations work the same way as they did for Numpy arrays\n",
    "series * 1_000_000"
   ]
  },
  {
   "cell_type": "code",
   "execution_count": 11,
   "metadata": {},
   "outputs": [
    {
     "data": {
      "text/plain": [
       "Canada     3.555348\n",
       "France     4.158883\n",
       "Germany    4.394449\n",
       "Italy      4.110874\n",
       "Japan      4.844187\n",
       "UK         4.174387\n",
       "USA        5.765191\n",
       "Name: Populations of G7 countries in millions, dtype: float64"
      ]
     },
     "execution_count": 11,
     "metadata": {},
     "output_type": "execute_result"
    }
   ],
   "source": [
    "# we can still use traditional Numpy functions on Pandas Series because a Series is still internally a Numpy Array\n",
    "np.log(series)"
   ]
  },
  {
   "attachments": {},
   "cell_type": "markdown",
   "metadata": {},
   "source": [
    "### Modifying a Series"
   ]
  },
  {
   "cell_type": "code",
   "execution_count": 12,
   "metadata": {},
   "outputs": [
    {
     "data": {
      "text/plain": [
       "Canada      40\n",
       "France      64\n",
       "Germany     81\n",
       "Italy       61\n",
       "Japan      127\n",
       "UK          65\n",
       "USA        319\n",
       "Name: Populations of G7 countries in millions, dtype: int64"
      ]
     },
     "execution_count": 12,
     "metadata": {},
     "output_type": "execute_result"
    }
   ],
   "source": [
    "# we can modify the Series jsut as we used to do with Python dictionaries\n",
    "series[\"Canada\"] = 40\n",
    "series"
   ]
  },
  {
   "cell_type": "code",
   "execution_count": 13,
   "metadata": {},
   "outputs": [
    {
     "data": {
      "text/plain": [
       "Canada      36\n",
       "France      64\n",
       "Germany     81\n",
       "Italy       61\n",
       "Japan      127\n",
       "UK          65\n",
       "USA        319\n",
       "Name: Populations of G7 countries in millions, dtype: int64"
      ]
     },
     "execution_count": 13,
     "metadata": {},
     "output_type": "execute_result"
    }
   ],
   "source": [
    "# We can also modify using the .iloc[] function\n",
    "series.iloc[0] = 36\n",
    "series"
   ]
  },
  {
   "cell_type": "code",
   "execution_count": 14,
   "metadata": {},
   "outputs": [
    {
     "data": {
      "text/plain": [
       "Canada     100\n",
       "France     100\n",
       "Germany     81\n",
       "Italy      100\n",
       "Japan      127\n",
       "UK         100\n",
       "USA        319\n",
       "Name: Populations of G7 countries in millions, dtype: int64"
      ]
     },
     "execution_count": 14,
     "metadata": {},
     "output_type": "execute_result"
    }
   ],
   "source": [
    "# Modifications can also be made with boolean selection\n",
    "series[series < 70] = 100\n",
    "series"
   ]
  },
  {
   "attachments": {},
   "cell_type": "markdown",
   "metadata": {},
   "source": [
    "## Dataframes\n",
    "\n",
    "- Looks a lot like an excel sheet\n",
    "- It is actually very common to create Dataframes out of .csv files\n",
    "- A dataframe column is basically Series\n",
    "- So we can think of dataframes as set of series"
   ]
  }
 ],
 "metadata": {
  "kernelspec": {
   "display_name": "base",
   "language": "python",
   "name": "python3"
  },
  "language_info": {
   "codemirror_mode": {
    "name": "ipython",
    "version": 3
   },
   "file_extension": ".py",
   "mimetype": "text/x-python",
   "name": "python",
   "nbconvert_exporter": "python",
   "pygments_lexer": "ipython3",
   "version": "3.6.5"
  },
  "orig_nbformat": 4
 },
 "nbformat": 4,
 "nbformat_minor": 2
}
